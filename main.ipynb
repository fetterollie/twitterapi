{
 "cells": [
  {
   "cell_type": "code",
   "execution_count": 1,
   "id": "bf773e7d",
   "metadata": {},
   "outputs": [],
   "source": [
    "import secrets\n",
    "import tweepy"
   ]
  },
  {
   "cell_type": "code",
   "execution_count": null,
   "id": "bb8d95f7",
   "metadata": {},
   "outputs": [],
   "source": [
    "consumer_key = secrets.api_key\n",
    "consumer_secret = secrets.api_secret\n",
    "access_token = secrets.access_token\n",
    "access_token_secret = secrets.access_token_secret"
   ]
  },
  {
   "cell_type": "code",
   "execution_count": null,
   "id": "5d1d7d5f",
   "metadata": {},
   "outputs": [],
   "source": [
    "auth = tweepy.OAuth1UserHandler(\n",
    "   consumer_key, consumer_secret, access_token, access_token_secret\n",
    ")\n",
    "\n",
    "api = tweepy.API(auth)\n",
    "\n",
    "public_tweets = api.home_timeline()\n",
    "for tweet in public_tweets:\n",
    "    print(tweet.text)"
   ]
  },
  {
   "cell_type": "code",
   "execution_count": null,
   "id": "2cf13662",
   "metadata": {},
   "outputs": [],
   "source": []
  }
 ],
 "metadata": {
  "kernelspec": {
   "display_name": "tweepy",
   "language": "python",
   "name": "tweepy"
  },
  "language_info": {
   "codemirror_mode": {
    "name": "ipython",
    "version": 3
   },
   "file_extension": ".py",
   "mimetype": "text/x-python",
   "name": "python",
   "nbconvert_exporter": "python",
   "pygments_lexer": "ipython3",
   "version": "3.10.9"
  }
 },
 "nbformat": 4,
 "nbformat_minor": 5
}
